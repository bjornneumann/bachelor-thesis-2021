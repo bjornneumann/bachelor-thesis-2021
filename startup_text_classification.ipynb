{
  "nbformat": 4,
  "nbformat_minor": 0,
  "metadata": {
    "accelerator": "GPU",
    "colab": {
      "name": "startup_text_classification.ipynb",
      "provenance": [],
      "collapsed_sections": [],
      "toc_visible": true
    },
    "kernelspec": {
      "display_name": "Python 3",
      "name": "python3"
    }
  },
  "cells": [
    {
      "cell_type": "markdown",
      "metadata": {
        "id": "Ic4_occAAiAT"
      },
      "source": [
        "##### Copyright 2021 Bjorn Leon Neumann. (modified)\n",
        "##### Copyright 2019 The TensorFlow Authors.\n",
        "\n",
        "This notebook has been inspired by the \"Basic text classification\" tutorial https://www.tensorflow.org/tutorials/keras/text_classification offered by the TensorFlow Authors. Thus, some of the further explanations in this file stem from the TensorFlow Authors."
      ]
    },
    {
      "cell_type": "code",
      "metadata": {
        "cellView": "form",
        "id": "ioaprt5q5US7"
      },
      "source": [
        "#@title Licensed under the Apache License, Version 2.0 (the \"License\");\n",
        "# you may not use this file except in compliance with the License.\n",
        "# You may obtain a copy of the License at\n",
        "#\n",
        "# https://www.apache.org/licenses/LICENSE-2.0\n",
        "#\n",
        "# Unless required by applicable law or agreed to in writing, software\n",
        "# distributed under the License is distributed on an \"AS IS\" BASIS,\n",
        "# WITHOUT WARRANTIES OR CONDITIONS OF ANY KIND, either express or implied.\n",
        "# See the License for the specific language governing permissions and\n",
        "# limitations under the License."
      ],
      "execution_count": null,
      "outputs": []
    },
    {
      "cell_type": "code",
      "metadata": {
        "cellView": "form",
        "id": "yCl0eTNH5RS3"
      },
      "source": [
        "#@title MIT License\n",
        "#\n",
        "# Copyright (c) 2017 François Chollet\n",
        "#\n",
        "# Permission is hereby granted, free of charge, to any person obtaining a\n",
        "# copy of this software and associated documentation files (the \"Software\"),\n",
        "# to deal in the Software without restriction, including without limitation\n",
        "# the rights to use, copy, modify, merge, publish, distribute, sublicense,\n",
        "# and/or sell copies of the Software, and to permit persons to whom the\n",
        "# Software is furnished to do so, subject to the following conditions:\n",
        "#\n",
        "# The above copyright notice and this permission notice shall be included in\n",
        "# all copies or substantial portions of the Software.\n",
        "#\n",
        "# THE SOFTWARE IS PROVIDED \"AS IS\", WITHOUT WARRANTY OF ANY KIND, EXPRESS OR\n",
        "# IMPLIED, INCLUDING BUT NOT LIMITED TO THE WARRANTIES OF MERCHANTABILITY,\n",
        "# FITNESS FOR A PARTICULAR PURPOSE AND NONINFRINGEMENT. IN NO EVENT SHALL\n",
        "# THE AUTHORS OR COPYRIGHT HOLDERS BE LIABLE FOR ANY CLAIM, DAMAGES OR OTHER\n",
        "# LIABILITY, WHETHER IN AN ACTION OF CONTRACT, TORT OR OTHERWISE, ARISING\n",
        "# FROM, OUT OF OR IN CONNECTION WITH THE SOFTWARE OR THE USE OR OTHER\n",
        "# DEALINGS IN THE SOFTWARE."
      ],
      "execution_count": null,
      "outputs": []
    },
    {
      "cell_type": "markdown",
      "metadata": {
        "id": "ItXfxkxvosLH"
      },
      "source": [
        "# Startup Pitchdeck Classification - Training/Testing/Exporting of Model"
      ]
    },
    {
      "cell_type": "markdown",
      "metadata": {
        "id": "Eg62Pmz3o83v"
      },
      "source": [
        "This notebook demonstrates text classification starting from plain text files stored on disk. You'll train a binary classifier to perform sentiment analysis on custom startup data dataset..\n"
      ]
    },
    {
      "cell_type": "code",
      "metadata": {
        "id": "8RZOuS9LWQvv"
      },
      "source": [
        "import matplotlib.pyplot as plt\n",
        "import os\n",
        "import re\n",
        "import shutil\n",
        "import string\n",
        "import tensorflow as tf\n",
        "\n",
        "from tensorflow.keras import layers\n",
        "from tensorflow.keras import losses\n",
        "from tensorflow.keras import preprocessing\n",
        "from tensorflow.keras.layers.experimental.preprocessing import TextVectorization"
      ],
      "execution_count": null,
      "outputs": []
    },
    {
      "cell_type": "markdown",
      "metadata": {
        "id": "NBTI1bi8qdFV"
      },
      "source": [
        "## Sentiment analysis\n",
        "\n",
        "This notebook trains a sentiment analysis model to classify pitch decks as *positive* or *negative*, based on the text of the pitch deck. This is an example of *binary*—or two-class—classification, an important and widely applicable kind of machine learning problem.\n",
        "\n",
        "We are using a custom database that was created by downloading pitch decks from https://angelmatch.io/pitch_decks and extracting the text information using the PDFMiner package.\n",
        "\n",
        "Our training dataset contains 176 pitch decks, of which 88 pitch decks are for training and 88 pitch decks are for testing. Furthermore, the training and testing sets are balanced. That means that an equal number of positive and negative pitch decks are contained in the training and testing sets.\n"
      ]
    },
    {
      "cell_type": "markdown",
      "metadata": {
        "id": "iAsKG535pHep"
      },
      "source": [
        "### Download and explore the Pitch Deck dataset\n",
        "\n",
        "Let's download and extract the dataset, then explore the directory structure.\n",
        "\n",
        "To download the respective dataset, make sure to upload the \"startup_data.tar.gz\". You can do that by dropping the file in the files panel on the left side of the screen."
      ]
    },
    {
      "cell_type": "code",
      "metadata": {
        "id": "k7ZYnuajVlFN"
      },
      "source": [
        "url = \"startup_data.tar.gz\"\n",
        "\n",
        "dataset = tf.keras.utils.get_file(\"startup_data\", url,\n",
        "                                    untar=True, cache_dir='.',\n",
        "                                    cache_subdir='')\n",
        "\n",
        "dataset_dir = os.path.join(os.path.dirname(dataset), 'startup_data')"
      ],
      "execution_count": null,
      "outputs": []
    },
    {
      "cell_type": "code",
      "metadata": {
        "id": "355CfOvsV1pl",
        "colab": {
          "base_uri": "https://localhost:8080/"
        },
        "outputId": "5918aa41-31f6-4f61-b91a-11939785b0c4"
      },
      "source": [
        "os.listdir(dataset_dir)"
      ],
      "execution_count": null,
      "outputs": [
        {
          "output_type": "execute_result",
          "data": {
            "text/plain": [
              "['.txt', 'train', 'test', '.DS_Store']"
            ]
          },
          "metadata": {
            "tags": []
          },
          "execution_count": 3
        }
      ]
    },
    {
      "cell_type": "code",
      "metadata": {
        "id": "7ASND15oXpF1",
        "colab": {
          "base_uri": "https://localhost:8080/"
        },
        "outputId": "03b207e3-8694-4276-e487-da8f3b9b8984"
      },
      "source": [
        "train_dir = os.path.join(dataset_dir, 'train')\n",
        "os.listdir(train_dir)"
      ],
      "execution_count": null,
      "outputs": [
        {
          "output_type": "execute_result",
          "data": {
            "text/plain": [
              "['neg', 'pos', '.DS_Store']"
            ]
          },
          "metadata": {
            "tags": []
          },
          "execution_count": 4
        }
      ]
    },
    {
      "cell_type": "markdown",
      "metadata": {
        "id": "ysMNMI1CWDFD"
      },
      "source": [
        "The `startup_data/train/pos` and `startup_data/train/neg` directories contain many text files, each of which is a single pitch deck. Let's take a look at one of them."
      ]
    },
    {
      "cell_type": "code",
      "metadata": {
        "id": "R7g8hFvzWLIZ",
        "colab": {
          "base_uri": "https://localhost:8080/"
        },
        "outputId": "1f50c9e1-63cb-475f-ac7d-a37288bd7383"
      },
      "source": [
        "sample_file = os.path.join(train_dir, 'pos/1huddle.txt')\n",
        "with open(sample_file) as f:\n",
        "  print(f.read())"
      ],
      "execution_count": null,
      "outputs": [
        {
          "output_type": "stream",
          "text": [
            "   sales-huddle-group   GAMIFY SALES TRAINING TO BOOST SALES   \f   51 CLIENTS. 10,000 USERS.!  sales-huddle-group   S P O R T S    E N T E R T A I N M E N T    C O L L E G E S    \f   sales-huddle-group   2015 T O T A L   S A L E S   $204,000  $10K  $40K  69%   M o M   G R O W T H   NOV      DEC      JAN      FEB  \f     $486B  C O R P   T R A I N I N G   \f   BUILD  GAMES FOR TRAINING   sales-huddle-group   \f   sales-huddle-group   PLAY  IN INDIVIDUAL OR TEAM MODE   HOW MANY GUEST PASSES DO  YOU RECEIVE PER YEAR?   \f   REWARD  TOP PLAYERS   sales-huddle-group   \f   sales-huddle-group   $15M QUESTION   THE TOTAL PRICE FOR  THIS SUPER BOWL 50  GAME DAY SUITE IS‚Ä¶   $1,000,000  $2,000,000  \f   sales-huddle-group     $10M  I N C R E A S E   I N   S A L E S   \f    TEAM  sales-huddle-group   SAM CAUCCI FOUNDER & CEO  10+ YEARS TRAINING SALES & SERVICE REPS   ROGER BERNARDINO DIRECTOR OF SALES 6 YEARS SELLING ENTERPRISE SAAS   BEN POWERS CLIENT SUCCESS MANAGER GAME BUILDING GURU     \fsales-huddle-group        51  C L I E N T S     204k  2 0 1 5   S A L E S     69%  M o M    G R O W T H   \f\n"
          ],
          "name": "stdout"
        }
      ]
    },
    {
      "cell_type": "markdown",
      "metadata": {
        "id": "Mk20TEm6ZRFP"
      },
      "source": [
        "### Load the dataset\n",
        "\n",
        "Next, you will load the data off disk and prepare it into a format suitable for training. To do so, you will use the helpful [text_dataset_from_directory](https://www.tensorflow.org/api_docs/python/tf/keras/preprocessing/text_dataset_from_directory) utility, which expects a directory structure as follows.\n",
        "\n",
        "```\n",
        "main_directory/\n",
        "...class_a/\n",
        "......a_text_1.txt\n",
        "......a_text_2.txt\n",
        "...class_b/\n",
        "......b_text_1.txt\n",
        "......b_text_2.txt\n",
        "```"
      ]
    },
    {
      "cell_type": "markdown",
      "metadata": {
        "id": "nQauv38Lnok3"
      },
      "source": [
        "To prepare a dataset for binary classification, you will need two folders on disk, corresponding to `class_a` and `class_b`. These will be the positive and negative pitch decks, which can be found in  `startup_data/train/pos` and `startup_data/train/neg`.."
      ]
    },
    {
      "cell_type": "markdown",
      "metadata": {
        "id": "95kkUdRoaeMw"
      },
      "source": [
        "Next, you will use the `text_dataset_from_directory` utility to create a labeled `tf.data.Dataset`. [tf.data](https://www.tensorflow.org/guide/data) is a powerful collection of tools for working with data. \n",
        "\n",
        "When running a machine learning experiment, it is a best practice to divide your dataset into three splits: [train](https://developers.google.com/machine-learning/glossary#training_set), [validation](https://developers.google.com/machine-learning/glossary#validation_set), and [test](https://developers.google.com/machine-learning/glossary#test-set). \n",
        "\n",
        "The startup dataset has already been divided into train and test, but it lacks a validation set. Let's create a validation set using an 80:20 split of the training data by using the `validation_split` argument below."
      ]
    },
    {
      "cell_type": "code",
      "metadata": {
        "id": "nOrK-MTYaw3C",
        "colab": {
          "base_uri": "https://localhost:8080/"
        },
        "outputId": "3080a551-cb2d-4b5d-cbda-80721d9eb0bb"
      },
      "source": [
        "batch_size = 16 #2 and #6 also used before\n",
        "seed = 425\n",
        "\n",
        "raw_train_ds = tf.keras.preprocessing.text_dataset_from_directory(\n",
        "    'startup_data/train', \n",
        "    batch_size=batch_size, \n",
        "    validation_split=0.2, \n",
        "    subset='training', \n",
        "    seed=seed)"
      ],
      "execution_count": null,
      "outputs": [
        {
          "output_type": "stream",
          "text": [
            "Found 88 files belonging to 2 classes.\n",
            "Using 71 files for training.\n"
          ],
          "name": "stdout"
        }
      ]
    },
    {
      "cell_type": "markdown",
      "metadata": {
        "id": "5Y33oxOUpYkh"
      },
      "source": [
        "As you can see above, there are 88 examples in the training folder, of which you will use 80% (or 71) for training. As you will see in a moment, you can train a model by passing a dataset directly to `model.fit`. If you're new to `tf.data`, you can also iterate over the dataset and print out a few examples as follows."
      ]
    },
    {
      "cell_type": "code",
      "metadata": {
        "id": "51wNaPPApk1K",
        "colab": {
          "base_uri": "https://localhost:8080/"
        },
        "outputId": "5603ee49-1b4f-4f68-d53d-3aba1fc09a2e"
      },
      "source": [
        "for text_batch, label_batch in raw_train_ds.take(1):\n",
        "  for i in range(1):\n",
        "    print(\"Pitch Deck\", text_batch.numpy()[i])\n",
        "    print(\"Label\", label_batch.numpy()[i])"
      ],
      "execution_count": null,
      "outputs": [
        {
          "output_type": "stream",
          "text": [
            "Pitch Deck b'Coupons & Cashback App   for online shopping  \\x0c    We are Growing  $300K  MONTHLY GMV  37%  MONTHLY GROWTH  3X  LTV/CAC  \\x0c  The opportunity is BIG  Coupons & Cashback $10B  $$$  Indian e-commerce market $100B   $$$  \\x0c    Customer Problem  Retailer Problem  How to find the best discounts   on mobile?  Very High Cost of Acquisition  \\x0c    Making every penny count for our members  Savings  Destination  Transactions  Extra LafaLafa  Cashback  Commission  \\x0c    Deals for everybody- Personal Deal Assistant   I want to buy an   iPhone  Best option is via Flipkart  \\x0c    India  Hong Kong  Expanding in Asia  Indonesia  \\x0c    The Team  Years of ecommerce & tech experience in startups Yosha Gupta, CEO & Founder, 10 years in mobile payments & fintech  \\x0c  $300K  MONTHLY GMV  37%  MONTHLY GROWTH  3X  LTV/CAC    \\x0c'\n",
            "Label 0\n"
          ],
          "name": "stdout"
        }
      ]
    },
    {
      "cell_type": "markdown",
      "metadata": {
        "id": "pbdO39vYqdJr"
      },
      "source": [
        "Next, you will create a validation and test dataset. You will use the remaining 17 pitch decks from the training set for validation."
      ]
    },
    {
      "cell_type": "markdown",
      "metadata": {
        "id": "SzxazN8Hq1pF"
      },
      "source": [
        "Note:  When using the `validation_split` and `subset` arguments, make sure to either specify a random seed, or to pass `shuffle=False`, so that the validation and training splits have no overlap."
      ]
    },
    {
      "cell_type": "code",
      "metadata": {
        "id": "JsMwwhOoqjKF",
        "colab": {
          "base_uri": "https://localhost:8080/"
        },
        "outputId": "eb3c2b8c-22fb-4277-b424-aebe37c3d10b"
      },
      "source": [
        "raw_val_ds = tf.keras.preprocessing.text_dataset_from_directory(\n",
        "    'startup_data/train', \n",
        "    batch_size=batch_size, \n",
        "    validation_split=0.2, \n",
        "    subset='validation', \n",
        "    seed=seed)"
      ],
      "execution_count": null,
      "outputs": [
        {
          "output_type": "stream",
          "text": [
            "Found 88 files belonging to 2 classes.\n",
            "Using 17 files for validation.\n"
          ],
          "name": "stdout"
        }
      ]
    },
    {
      "cell_type": "code",
      "metadata": {
        "id": "rdSr0Nt3q_ns",
        "colab": {
          "base_uri": "https://localhost:8080/"
        },
        "outputId": "6397e339-ac3d-4def-d3e6-e66def1d6f98"
      },
      "source": [
        "raw_test_ds = tf.keras.preprocessing.text_dataset_from_directory(\n",
        "    'startup_data/test', \n",
        "    batch_size=batch_size)"
      ],
      "execution_count": null,
      "outputs": [
        {
          "output_type": "stream",
          "text": [
            "Found 88 files belonging to 2 classes.\n"
          ],
          "name": "stdout"
        }
      ]
    },
    {
      "cell_type": "markdown",
      "metadata": {
        "id": "kDA_Lu2PoGyP"
      },
      "source": [
        "Note: The Preprocessing APIs used in the following section are experimental in TensorFlow 2.3 and subject to change."
      ]
    },
    {
      "cell_type": "markdown",
      "metadata": {
        "id": "qJmTiO0IYAjm"
      },
      "source": [
        "### Prepare the dataset for training\n",
        "\n",
        "Next, you will standardize, tokenize, and vectorize the data using the helpful `preprocessing.TextVectorization` layer. \n",
        "\n",
        "Standardization refers to preprocessing the text, typically to remove punctuation or HTML elements to simplify the dataset. Tokenization refers to splitting strings into tokens (for example, splitting a sentence into individual words, by splitting on whitespace). Vectorization refers to converting tokens into numbers so they can be fed into a neural network. All of these tasks can be accomplished with this layer.\n",
        "\n",
        "Some pitch decks may contain some HTML tags like `<br />`. These tags will not be removed by the default standardizer in the `TextVectorization` layer (which converts text to lowercase and strips punctuation by default, but doesn't strip HTML). You will write a custom standardization function to remove the HTML."
      ]
    },
    {
      "cell_type": "markdown",
      "metadata": {
        "id": "ZVcHl-SLrH-u"
      },
      "source": [
        "Note: to prevent [train/test skew](https://developers.google.com/machine-learning/guides/rules-of-ml#training-serving_skew) (also know as train/serving skew), it is important to preprocess the data identically at train and test time. To facilitate this, the `TextVectorization` layer can be included directly inside your model, as shown later in this notebook."
      ]
    },
    {
      "cell_type": "code",
      "metadata": {
        "id": "SDRI_s_tX1Hk"
      },
      "source": [
        "def custom_standardization(input_data):\n",
        "  lowercase = tf.strings.lower(input_data)\n",
        "  stripped_html = tf.strings.regex_replace(lowercase, '<br />', ' ')\n",
        "  return tf.strings.regex_replace(stripped_html,\n",
        "                                  '[%s]' % re.escape(string.punctuation),\n",
        "                                  '')"
      ],
      "execution_count": null,
      "outputs": []
    },
    {
      "cell_type": "markdown",
      "metadata": {
        "id": "d2d3Aw8dsUux"
      },
      "source": [
        "Next, you will create a `TextVectorization` layer. you will use this layer to standardize, tokenize, and vectorize our data. You set the `output_mode` to `int` to create unique integer indices for each token.\n",
        "\n",
        "Note that you're using the default split function, and the custom standardization function you defined above. You'll also define some constants for the model, like an explicit maximum `sequence_length`, which will cause the layer to pad or truncate sequences to exactly `sequence_length` values."
      ]
    },
    {
      "cell_type": "code",
      "metadata": {
        "id": "-c76RvSzsMnX"
      },
      "source": [
        "max_features = 4719\n",
        "sequence_length = 250\n",
        "\n",
        "vectorize_layer = TextVectorization(\n",
        "    standardize=custom_standardization,\n",
        "    max_tokens=max_features,\n",
        "    output_mode='int',\n",
        "    output_sequence_length=sequence_length)"
      ],
      "execution_count": null,
      "outputs": []
    },
    {
      "cell_type": "markdown",
      "metadata": {
        "id": "vlFOpfF6scT6"
      },
      "source": [
        "Next, you will call `adapt` to fit the state of the preprocessing layer to the dataset. This will cause the model to build an index of strings to integers."
      ]
    },
    {
      "cell_type": "markdown",
      "metadata": {
        "id": "lAhdjK7AtroA"
      },
      "source": [
        "Note: it's important to only use your training data when calling adapt (using the test set would leak information)."
      ]
    },
    {
      "cell_type": "code",
      "metadata": {
        "id": "GH4_2ZGJsa_X"
      },
      "source": [
        "# Make a text-only dataset (without labels), then call adapt\n",
        "train_text = raw_train_ds.map(lambda x, y: x)\n",
        "vectorize_layer.adapt(train_text)"
      ],
      "execution_count": null,
      "outputs": []
    },
    {
      "cell_type": "markdown",
      "metadata": {
        "id": "SHQVEFzNt-K_"
      },
      "source": [
        "Let's create a function to see the result of using this layer to preprocess some data."
      ]
    },
    {
      "cell_type": "code",
      "metadata": {
        "id": "SCIg_T50wOCU"
      },
      "source": [
        "def vectorize_text(text, label):\n",
        "  text = tf.expand_dims(text, -1)\n",
        "  return vectorize_layer(text), label"
      ],
      "execution_count": null,
      "outputs": []
    },
    {
      "cell_type": "code",
      "metadata": {
        "id": "XULcm6B3xQIO",
        "colab": {
          "base_uri": "https://localhost:8080/"
        },
        "outputId": "c059dd8c-cf58-4ef5-a27d-989c97ec8454"
      },
      "source": [
        "# retrieve a batch (of 2 pitch decks and labels) from the dataset\n",
        "text_batch, label_batch = next(iter(raw_train_ds))\n",
        "first_pitch_deck, first_label = text_batch[0], label_batch[0]\n",
        "print(\"Pitch Deck\", first_pitch_deck)\n",
        "print(\"Label\", raw_train_ds.class_names[first_label])\n",
        "print(\"Vectorized pitch deck\", vectorize_text(first_pitch_deck, first_label))"
      ],
      "execution_count": null,
      "outputs": [
        {
          "output_type": "stream",
          "text": [
            "Pitch Deck tf.Tensor(b'Proofreading is Broken.  We just Solved it.  \\x0c\\x0c\\x0c\\xc3\\x94\\xc3\\x87\\xc3\\x9f Cheesy stock photos \\xc3\\x94\\xc3\\x87\\xc3\\x9f Confusing price structure \\xc3\\x94\\xc3\\x87\\xc3\\x9f No transparency  \\x0c\\x0cUser uploads a paper  Purchase or earn credits  Proofread by another user  Admin quality review  \\x0c\\xc3\\x94\\xc3\\x89\\xc2\\xba Proofread paper in < 24 hours  \\x0c\\xc3\\x94\\xc3\\x89\\xc2\\xba Proprietary Application \\xc3\\x94\\xc3\\x89\\xc2\\xba Encourages Comments  \\x0cTotal Users  Papers Proofread  Users Growing 44% W/W  Papers Proofread 40% W/W  2600 2400 2200 2000 1800 1600 1400 1200 1000 800 600 400 200 0  4/22 4/29 5/6 5/13 5/20 5/27 5/28 6/3 6/10 6/17 6/24 7/1 7/8 7/15 7/22 7/29 8/5 8/12  We have paid users!  80% of Users are Students  \\x0c31 Million Students in the U.S.  Writing 30 papers per year  930 Million papers need proofreading each year  \\x0cTeam  Travis Biziorek  \\xe2\\x80\\x9a\\xc3\\x84\\xc2\\xa2 Financial analyst (Charles Schwab)  \\xe2\\x80\\x9a\\xc3\\x84\\xc2\\xa2 Currency trader (Allston Trading) \\xe2\\x80\\x9a\\xc3\\x84\\xc2\\xa2 Professional poker (Self)  Jim Nguyen  \\xe2\\x80\\x9a\\xc3\\x84\\xc2\\xa2 Developer at Beau-Coup ()  \\xe2\\x80\\x9a\\xc3\\x84\\xc2\\xa2 Lead developer at VSIRC () \\xe2\\x80\\x9a\\xc3\\x84\\xc2\\xa2 IT at LiveNote (sold to Thomson-Reuters)   Advisors  Rob Angarita Co-founder Cramster (Sold to Chegg) \\xe2\\x80\\x9a\\xc3\\x84\\xc3\\xbaI have gotten to know Travis over a few months now. He is  an entrepreneur you want to join, back or advise. Kibin is an  overdue solution to a big activity all students face. Travis and  Jim are going to figure out how to nail it.\\xe2\\x80\\x9a\\xc3\\x84\\xc3\\xb9  \\x0c\\xc3\\x94\\xc3\\x89\\xc2\\xba Raising $400k to build out team  \\xc3\\x94\\xc3\\x89\\xc2\\xba Doubling down on Fall student acquisition  \\xc3\\x94\\xc3\\x89\\xc2\\xba Proofreading API for crowd content creators  \\x0c    @Kibininc  \\x0c', shape=(), dtype=string)\n",
            "Label neg\n",
            "Vectorized pitch deck (<tf.Tensor: shape=(1, 250), dtype=int64, numpy=\n",
            "array([[ 793,   23,  946,   29,  338,  758,   98,  717, 3559, 2103, 1242,\n",
            "         717, 3480,  382, 2093,  717,   85, 1982,  113, 1933,    7,  601,\n",
            "         587,   81, 1474, 3440,  590,   31,  969,  113, 3816,  480,  778,\n",
            "         352,  590,  601,   11,  441,  629,  352,  790,  690,  352, 3282,\n",
            "        3505,  229,   90,  600,  590,   90,  115, 1002, 1042,  600,  590,\n",
            "         224, 1042, 4028, 4039, 1661, 1010, 4094, 1674, 4131, 1685,  546,\n",
            "         989,  995, 1649,  544,  121, 3969, 3965,  696, 3937, 3936, 3934,\n",
            "        3933,  539, 3917, 3916, 3911, 3888, 1628, 3885, 3883, 3881,  988,\n",
            "        3859,   29,  135,  602,   90,  196,    8,   90,   35,  748,  307,\n",
            "         108,  748,   11,    2,   47,  722,  138,  600,   60,  165, 3843,\n",
            "         108,  600,  395,  793,  250,  165,   45,  739, 3659,   10,  409,\n",
            "        1595, 1539, 2216,   10,  921, 1989, 3775, 1988,   10,  323, 2477,\n",
            "        2206,  850, 1270,   10,  293,   44, 3686,   10,  836,  293,   44,\n",
            "        1888,   10,   98,   44, 2789,  567,    4, 2015,  531, 1182, 3751,\n",
            "         117, 3446,  567,    4, 3558, 1024,  135, 3103,    4, 2858,  739,\n",
            "         133,    7,  892,  142,  237, 3055,   23,  258,  512,   38,  448,\n",
            "           4, 1352,  256,   81, 3804, 2874,   23,  258, 2554,  122,    4,\n",
            "           7,  348, 3823,   30,  748, 3211,  739,    3,  850,   35,  634,\n",
            "           4, 3188,  391,  154,    4, 2645, 2917,  352, 1208,  699,    4,\n",
            "         255,  391,   45,  352, 3331, 1477,   28, 3202, 1112,  535,  352,\n",
            "         793,  429,   16, 1502,  296, 3442, 2873,    0,    0,    0,    0,\n",
            "           0,    0,    0,    0,    0,    0,    0,    0,    0,    0,    0,\n",
            "           0,    0,    0,    0,    0,    0,    0,    0]])>, <tf.Tensor: shape=(), dtype=int32, numpy=0>)\n"
          ],
          "name": "stdout"
        }
      ]
    },
    {
      "cell_type": "markdown",
      "metadata": {
        "id": "6u5EX0hxyNZT"
      },
      "source": [
        "As you can see above, each token has been replaced by an integer. You can lookup the token (string) that each integer corresponds to by calling `.get_vocabulary()` on the layer."
      ]
    },
    {
      "cell_type": "code",
      "metadata": {
        "id": "kRq9hTQzhVhW",
        "colab": {
          "base_uri": "https://localhost:8080/"
        },
        "outputId": "9c093000-0a26-404e-a3ae-93bda21f1ebd"
      },
      "source": [
        "print(\"18 ---> \",vectorize_layer.get_vocabulary()[18])\n",
        "print(\" 865 ---> \",vectorize_layer.get_vocabulary()[865])\n",
        "print('Vocabulary size: {}'.format(len(vectorize_layer.get_vocabulary())))"
      ],
      "execution_count": null,
      "outputs": [
        {
          "output_type": "stream",
          "text": [
            "18 --->  l\n",
            " 865 --->  host\n",
            "Vocabulary size: 4186\n"
          ],
          "name": "stdout"
        }
      ]
    },
    {
      "cell_type": "markdown",
      "metadata": {
        "id": "XD2H6utRydGv"
      },
      "source": [
        "You are nearly ready to train your model. As a final preprocessing step, you will apply the TextVectorization layer you created earlier to the train, validation, and test dataset."
      ]
    },
    {
      "cell_type": "code",
      "metadata": {
        "id": "2zhmpeViI1iG"
      },
      "source": [
        "train_ds = raw_train_ds.map(vectorize_text)\n",
        "val_ds = raw_val_ds.map(vectorize_text)\n",
        "test_ds = raw_test_ds.map(vectorize_text)"
      ],
      "execution_count": null,
      "outputs": []
    },
    {
      "cell_type": "markdown",
      "metadata": {
        "id": "YsVQyPMizjuO"
      },
      "source": [
        "### Configure the dataset for performance\n",
        "\n",
        "These are two important methods you should use when loading data to make sure that I/O does not become blocking.\n",
        "\n",
        "`.cache()` keeps data in memory after it's loaded off disk. This will ensure the dataset does not become a bottleneck while training your model. If your dataset is too large to fit into memory, you can also use this method to create a performant on-disk cache, which is more efficient to read than many small files.\n",
        "\n",
        "`.prefetch()` overlaps data preprocessing and model execution while training. \n",
        "\n",
        "You can learn more about both methods, as well as how to cache data to disk in the [data performance guide](https://www.tensorflow.org/guide/data_performance)."
      ]
    },
    {
      "cell_type": "code",
      "metadata": {
        "id": "wMcs_H7izm5m"
      },
      "source": [
        "AUTOTUNE = tf.data.AUTOTUNE\n",
        "\n",
        "train_ds = train_ds.cache().prefetch(buffer_size=AUTOTUNE)\n",
        "val_ds = val_ds.cache().prefetch(buffer_size=AUTOTUNE)\n",
        "test_ds = test_ds.cache().prefetch(buffer_size=AUTOTUNE)"
      ],
      "execution_count": null,
      "outputs": []
    },
    {
      "cell_type": "markdown",
      "metadata": {
        "id": "LLC02j2g-llC"
      },
      "source": [
        "### Create the model\n",
        "\n",
        "It's time to create our neural network:"
      ]
    },
    {
      "cell_type": "code",
      "metadata": {
        "id": "dkQP6in8yUBR"
      },
      "source": [
        "embedding_dim = 512 # Checked for 8, 16, 32, 64, 128, 256, 512"
      ],
      "execution_count": null,
      "outputs": []
    },
    {
      "cell_type": "code",
      "metadata": {
        "id": "xpKOoWgu-llD",
        "colab": {
          "base_uri": "https://localhost:8080/"
        },
        "outputId": "f3bf9f79-2bb6-44b4-abfc-27d950858897"
      },
      "source": [
        "model = tf.keras.Sequential([\n",
        "  layers.Embedding(max_features + 1, embedding_dim),\n",
        "  layers.Dropout(0.2),\n",
        "  layers.GlobalAveragePooling1D(),\n",
        "  layers.Dropout(0.2),\n",
        "  layers.Dense(1)])\n",
        "\n",
        "model.summary()"
      ],
      "execution_count": null,
      "outputs": [
        {
          "output_type": "stream",
          "text": [
            "Model: \"sequential_4\"\n",
            "_________________________________________________________________\n",
            "Layer (type)                 Output Shape              Param #   \n",
            "=================================================================\n",
            "embedding_3 (Embedding)      (None, None, 512)         2416640   \n",
            "_________________________________________________________________\n",
            "dropout_6 (Dropout)          (None, None, 512)         0         \n",
            "_________________________________________________________________\n",
            "global_average_pooling1d_3 ( (None, 512)               0         \n",
            "_________________________________________________________________\n",
            "dropout_7 (Dropout)          (None, 512)               0         \n",
            "_________________________________________________________________\n",
            "dense_3 (Dense)              (None, 1)                 513       \n",
            "=================================================================\n",
            "Total params: 2,417,153\n",
            "Trainable params: 2,417,153\n",
            "Non-trainable params: 0\n",
            "_________________________________________________________________\n"
          ],
          "name": "stdout"
        }
      ]
    },
    {
      "cell_type": "markdown",
      "metadata": {
        "id": "6PbKQ6mucuKL"
      },
      "source": [
        "The layers are stacked sequentially to build the classifier:\n",
        "\n",
        "1. The first layer is an `Embedding` layer. This layer takes the integer-encoded pitch decks and looks up an embedding vector for each word-index. These vectors are learned as the model trains. The vectors add a dimension to the output array. The resulting dimensions are: `(batch, sequence, embedding)`.  To learn more about embeddings, see the [word embedding tutorial](../text/word_embeddings.ipynb).\n",
        "2. Next, a `GlobalAveragePooling1D` layer returns a fixed-length output vector for each example by averaging over the sequence dimension. This allows the model to handle input of variable length, in the simplest way possible.\n",
        "3. This fixed-length output vector is piped through a fully-connected (`Dense`) layer with 16 hidden units. \n",
        "4. The last layer is densely connected with a single output node."
      ]
    },
    {
      "cell_type": "markdown",
      "metadata": {
        "id": "L4EqVWg4-llM"
      },
      "source": [
        "### Loss function and optimizer\n",
        "\n",
        "A model needs a loss function and an optimizer for training. Since this is a binary classification problem and the model outputs a probability (a single-unit layer with a sigmoid activation), you'll use `losses.BinaryCrossentropy` loss function.\n",
        "\n",
        "Now, configure the model to use an optimizer and a loss function:"
      ]
    },
    {
      "cell_type": "code",
      "metadata": {
        "id": "Mr0GP-cQ-llN"
      },
      "source": [
        "model.compile(loss=losses.BinaryCrossentropy(from_logits=True),\n",
        "              optimizer='adam',\n",
        "              metrics=tf.metrics.BinaryAccuracy(threshold=0.0))"
      ],
      "execution_count": null,
      "outputs": []
    },
    {
      "cell_type": "markdown",
      "metadata": {
        "id": "35jv_fzP-llU"
      },
      "source": [
        "### Train the model\n",
        "\n",
        "You will train the model by passing the `dataset` object to the fit method."
      ]
    },
    {
      "cell_type": "code",
      "metadata": {
        "id": "tXSGrjWZ-llW",
        "colab": {
          "base_uri": "https://localhost:8080/"
        },
        "outputId": "25455889-8326-414b-bd24-8cfdabd720b2"
      },
      "source": [
        "epochs = 10\n",
        "history = model.fit(\n",
        "    train_ds,\n",
        "    validation_data=val_ds,\n",
        "    epochs=epochs)"
      ],
      "execution_count": null,
      "outputs": [
        {
          "output_type": "stream",
          "text": [
            "Epoch 1/10\n",
            "5/5 [==============================] - 1s 75ms/step - loss: 0.6921 - binary_accuracy: 0.4904 - val_loss: 0.6911 - val_binary_accuracy: 0.5294\n",
            "Epoch 2/10\n",
            "5/5 [==============================] - 0s 41ms/step - loss: 0.6758 - binary_accuracy: 0.6503 - val_loss: 0.6906 - val_binary_accuracy: 0.5294\n",
            "Epoch 3/10\n",
            "5/5 [==============================] - 0s 46ms/step - loss: 0.6652 - binary_accuracy: 0.6767 - val_loss: 0.6908 - val_binary_accuracy: 0.5294\n",
            "Epoch 4/10\n",
            "5/5 [==============================] - 0s 41ms/step - loss: 0.6549 - binary_accuracy: 0.7035 - val_loss: 0.6912 - val_binary_accuracy: 0.5294\n",
            "Epoch 5/10\n",
            "5/5 [==============================] - 0s 41ms/step - loss: 0.6442 - binary_accuracy: 0.7082 - val_loss: 0.6917 - val_binary_accuracy: 0.5294\n",
            "Epoch 6/10\n",
            "5/5 [==============================] - 0s 42ms/step - loss: 0.6336 - binary_accuracy: 0.7242 - val_loss: 0.6922 - val_binary_accuracy: 0.5294\n",
            "Epoch 7/10\n",
            "5/5 [==============================] - 0s 43ms/step - loss: 0.6213 - binary_accuracy: 0.7242 - val_loss: 0.6925 - val_binary_accuracy: 0.5294\n",
            "Epoch 8/10\n",
            "5/5 [==============================] - 0s 42ms/step - loss: 0.6098 - binary_accuracy: 0.7506 - val_loss: 0.6928 - val_binary_accuracy: 0.5294\n",
            "Epoch 9/10\n",
            "5/5 [==============================] - 0s 41ms/step - loss: 0.5980 - binary_accuracy: 0.7579 - val_loss: 0.6928 - val_binary_accuracy: 0.5294\n",
            "Epoch 10/10\n",
            "5/5 [==============================] - 0s 41ms/step - loss: 0.5836 - binary_accuracy: 0.7579 - val_loss: 0.6924 - val_binary_accuracy: 0.5294\n"
          ],
          "name": "stdout"
        }
      ]
    },
    {
      "cell_type": "markdown",
      "metadata": {
        "id": "9EEGuDVuzb5r"
      },
      "source": [
        "### Evaluate the model\n",
        "\n",
        "Let's see how the model performs. Two values will be returned. Loss (a number which represents our error, lower values are better), and accuracy."
      ]
    },
    {
      "cell_type": "code",
      "metadata": {
        "id": "zOMKywn4zReN",
        "colab": {
          "base_uri": "https://localhost:8080/"
        },
        "outputId": "1fbf1659-c9a8-473b-e915-72f7b3425079"
      },
      "source": [
        "loss, accuracy = model.evaluate(test_ds)\n",
        "\n",
        "print(\"Loss: \", loss)\n",
        "print(\"Accuracy: \", accuracy)"
      ],
      "execution_count": null,
      "outputs": [
        {
          "output_type": "stream",
          "text": [
            "6/6 [==============================] - 0s 4ms/step - loss: 0.6633 - binary_accuracy: 0.6136\n",
            "Loss:  0.6632837057113647\n",
            "Accuracy:  0.6136363744735718\n"
          ],
          "name": "stdout"
        }
      ]
    },
    {
      "cell_type": "markdown",
      "metadata": {
        "id": "z1iEXVTR0Z2t"
      },
      "source": [
        "This fairly naive approach achieves an accuracy of about 60%."
      ]
    },
    {
      "cell_type": "markdown",
      "metadata": {
        "id": "ldbQqCw2Xc1W"
      },
      "source": [
        "### Create a plot of accuracy and loss over time\n",
        "\n",
        "`model.fit()` returns a `History` object that contains a dictionary with everything that happened during training:"
      ]
    },
    {
      "cell_type": "code",
      "metadata": {
        "id": "-YcvZsdvWfDf",
        "colab": {
          "base_uri": "https://localhost:8080/"
        },
        "outputId": "2f17adc0-781b-4884-e1dd-8d89c7b035ca"
      },
      "source": [
        "history_dict = history.history\n",
        "history_dict.keys()"
      ],
      "execution_count": null,
      "outputs": [
        {
          "output_type": "execute_result",
          "data": {
            "text/plain": [
              "dict_keys(['loss', 'binary_accuracy', 'val_loss', 'val_binary_accuracy'])"
            ]
          },
          "metadata": {
            "tags": []
          },
          "execution_count": 90
        }
      ]
    },
    {
      "cell_type": "markdown",
      "metadata": {
        "id": "1_CH32qJXruI"
      },
      "source": [
        "There are four entries: one for each monitored metric during training and validation. You can use these to plot the training and validation loss for comparison, as well as the training and validation accuracy:"
      ]
    },
    {
      "cell_type": "code",
      "metadata": {
        "id": "2SEMeQ5YXs8z",
        "colab": {
          "base_uri": "https://localhost:8080/",
          "height": 295
        },
        "outputId": "9d6f51cf-3aad-43ac-d2b0-81e9b0f022da"
      },
      "source": [
        "acc = history_dict['binary_accuracy']\n",
        "val_acc = history_dict['val_binary_accuracy']\n",
        "loss = history_dict['loss']\n",
        "val_loss = history_dict['val_loss']\n",
        "\n",
        "epochs = range(1, len(acc) + 1)\n",
        "\n",
        "# \"bo\" is for \"blue dot\"\n",
        "plt.plot(epochs, loss, 'bo', label='Training loss')\n",
        "# b is for \"solid blue line\"\n",
        "plt.plot(epochs, val_loss, 'b', label='Validation loss')\n",
        "plt.title('Training and validation loss')\n",
        "plt.xlabel('Epochs')\n",
        "plt.ylabel('Loss')\n",
        "plt.legend()\n",
        "\n",
        "plt.show()"
      ],
      "execution_count": null,
      "outputs": [
        {
          "output_type": "display_data",
          "data": {
            "image/png": "[encoded data removed]",
            "text/plain": [
              "<Figure size 432x288 with 1 Axes>"
            ]
          },
          "metadata": {
            "tags": [],
            "needs_background": "light"
          }
        }
      ]
    },
    {
      "cell_type": "code",
      "metadata": {
        "id": "Z3PJemLPXwz_",
        "colab": {
          "base_uri": "https://localhost:8080/",
          "height": 295
        },
        "outputId": "f9ae2223-e737-4958-b6f7-05fa9bb0fd32"
      },
      "source": [
        "plt.plot(epochs, acc, 'bo', label='Training acc')\n",
        "plt.plot(epochs, val_acc, 'b', label='Validation acc')\n",
        "plt.title('Training and validation accuracy')\n",
        "plt.xlabel('Epochs')\n",
        "plt.ylabel('Accuracy')\n",
        "plt.legend(loc='lower right')\n",
        "\n",
        "plt.show()"
      ],
      "execution_count": null,
      "outputs": [
        {
          "output_type": "display_data",
          "data": {
            "image/png": "[encoded data removed]",
            "text/plain": [
              "<Figure size 432x288 with 1 Axes>"
            ]
          },
          "metadata": {
            "tags": [],
            "needs_background": "light"
          }
        }
      ]
    },
    {
      "cell_type": "markdown",
      "metadata": {
        "id": "hFFyCuJoXy7r"
      },
      "source": [
        "In this plot, the dots represent the training loss and accuracy, and the solid lines are the validation loss and accuracy.\n",
        "\n",
        "Notice the training loss *decreases* with each epoch and the training accuracy *increases* with each epoch. This is expected when using a gradient descent optimization—it should minimize the desired quantity on every iteration.\n",
        "\n",
        "This isn't the case for the validation loss and accuracy—they seem to peak before the training accuracy. This is an example of overfitting: the model performs better on the training data than it does on data it has never seen before. After this point, the model over-optimizes and learns representations *specific* to the training data that do not *generalize* to test data.\n",
        "\n",
        "For this particular case, you could prevent overfitting by simply stopping the training when the validation accuracy is no longer increasing. One way to do so is to use the `tf.keras.callbacks.EarlyStopping` callback."
      ]
    },
    {
      "cell_type": "markdown",
      "metadata": {
        "id": "-to23J3Vy5d3"
      },
      "source": [
        "## Export the model\n",
        "\n",
        "In the code above, you applied the `TextVectorization` layer to the dataset before feeding text to the model. If you want to make your model capable of processing raw strings (for example, to simplify deploying it), you can include the `TextVectorization` layer inside your model. To do so, you can create a new model using the weights you just trained."
      ]
    },
    {
      "cell_type": "code",
      "metadata": {
        "id": "FWXsMvryuZuq",
        "colab": {
          "base_uri": "https://localhost:8080/"
        },
        "outputId": "129b50cf-1c7d-4444-a008-32225fec8e1e"
      },
      "source": [
        "export_model = tf.keras.Sequential([\n",
        "  vectorize_layer,\n",
        "  model,\n",
        "  layers.Activation('sigmoid')\n",
        "])\n",
        "\n",
        "export_model.compile(\n",
        "    loss=losses.BinaryCrossentropy(from_logits=False), optimizer=\"adam\", metrics=['accuracy']\n",
        ")\n",
        "\n",
        "\n",
        "\n",
        "# Test it with `raw_test_ds`, which yields raw strings\n",
        "loss, accuracy = export_model.evaluate(raw_test_ds)\n",
        "print(accuracy)"
      ],
      "execution_count": null,
      "outputs": [
        {
          "output_type": "stream",
          "text": [
            "6/6 [==============================] - 0s 6ms/step - loss: 0.6790 - accuracy: 0.5936\n",
            "0.6136363744735718\n"
          ],
          "name": "stdout"
        }
      ]
    },
    {
      "cell_type": "markdown",
      "metadata": {
        "id": "TwQgoN88LoEF"
      },
      "source": [
        "### Inference on new data\n",
        "\n",
        "To get predictions for new examples, you can simply call `model.predict()`."
      ]
    },
    {
      "cell_type": "code",
      "metadata": {
        "id": "QW355HH5L49K",
        "colab": {
          "base_uri": "https://localhost:8080/"
        },
        "outputId": "0a922c11-c6ce-4639-a8af-0d045d6d4785"
      },
      "source": [
        "import numpy as np\n",
        "import tensorflow as tf\n",
        "from tensorflow import keras\n",
        "\n",
        "# Calling `save('my_model')` creates a SavedModel folder `my_model`.\n",
        "export_model.save(\"my_model\")\n",
        "\n",
        "# It can be used to reconstruct the model identically.\n",
        "reconstructed_model = keras.models.load_model(\"my_model\", custom_objects={'TextVectorization':TextVectorization, \n",
        "                    'custom_standardization':custom_standardization})\n",
        "\n",
        "examples = [\n",
        "  \"We offer the best services ever! And we have a great team as well!\",\n",
        "  \"This Sales Pipeline Process Template is a step-by-step workflow  that enhances your team‚Äôs focus and productivity by guiding them  through all the steps of the sale\",\n",
        "  \"with a natural ability to perform and realize how to help develop them into great leaders.Decode the complexities and realize what drives workplace behaviors so you can ensure alignment, reach your team‚Äôs true potential, and achieve your business objectives faster than you ever thought possible, all with The Predictive Index¬Æ.&PROBLEMS WE SOLVEThe Predictive Index uses the power of Science and Technology to deliver solutions\"\n",
        "]\n",
        "\n",
        "reconstructed_model.predict(examples)"
      ],
      "execution_count": null,
      "outputs": [
        {
          "output_type": "stream",
          "text": [
            "INFO:tensorflow:Assets written to: my_model/assets\n"
          ],
          "name": "stdout"
        },
        {
          "output_type": "execute_result",
          "data": {
            "text/plain": [
              "array([[0.3302916 ],\n",
              "       [0.3511087 ],\n",
              "       [0.40599695]], dtype=float32)"
            ]
          },
          "metadata": {
            "tags": []
          },
          "execution_count": 97
        }
      ]
    },
    {
      "cell_type": "markdown",
      "metadata": {
        "id": "dxduEpQUwt7v"
      },
      "source": [
        "# Downloading the model to one's local machine\n",
        "With the following command, we convert our exported model into a zip file. This enables us to download the model and use it in our pitch deck evaluation software.\n",
        "\n",
        "After downloading the file to one's local machine, one can unzip it and use it in one's software."
      ]
    },
    {
      "cell_type": "code",
      "metadata": {
        "id": "8RBndgq9tey6",
        "colab": {
          "base_uri": "https://localhost:8080/"
        },
        "outputId": "438f4109-9e25-431e-bc7d-6c4192b345b2"
      },
      "source": [
        "!zip -r ./my_model.zip ./my_model/"
      ],
      "execution_count": null,
      "outputs": [
        {
          "output_type": "stream",
          "text": [
            "  adding: my_model/ (stored 0%)\n",
            "  adding: my_model/variables/ (stored 0%)\n",
            "  adding: my_model/variables/variables.data-00000-of-00001 (deflated 27%)\n",
            "  adding: my_model/variables/variables.index (deflated 61%)\n",
            "  adding: my_model/saved_model.pb (deflated 91%)\n",
            "  adding: my_model/assets/ (stored 0%)\n"
          ],
          "name": "stdout"
        }
      ]
    },
    {
      "cell_type": "markdown",
      "metadata": {
        "id": "MaxlpFWpzR6c"
      },
      "source": [
        "Including the text preprocessing logic inside your model enables you to export a model for production that simplifies deployment, and reduces the potential for [train/test skew](https://developers.google.com/machine-learning/guides/rules-of-ml#training-serving_skew).\n",
        "\n",
        "There is a performance difference to keep in mind when choosing where to apply your TextVectorization layer. Using it outside of your model enables you to do asynchronous CPU processing and buffering of your data when training on GPU. So, if you're training your model on the GPU, you probably want to go with this option to get the best performance while developing your model, then switch to including the TextVectorization layer inside your model when you're ready to prepare for deployment."
      ]
    }
  ]
}